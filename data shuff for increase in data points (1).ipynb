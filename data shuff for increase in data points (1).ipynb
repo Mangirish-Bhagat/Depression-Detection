{
 "cells": [
  {
   "cell_type": "code",
   "execution_count": 1,
   "metadata": {},
   "outputs": [],
   "source": [
    "\n",
    "#random sampling 3000 images of each class\n",
    "import numpy as np\n",
    "import cv2\n",
    "import os"
   ]
  },
  {
   "cell_type": "code",
   "execution_count": 2,
   "metadata": {},
   "outputs": [],
   "source": [
    "#random_files = np.random.choice('D:\\mit wpu\\DL Project\\cnn\\non depressed/'+i, 500)\n",
    "#D:\\mit wpu\\DL Project\\cnn\\non depressed"
   ]
  },
  {
   "cell_type": "code",
   "execution_count": 3,
   "metadata": {},
   "outputs": [
    {
     "data": {
      "text/plain": [
       "\"from shutil import copyfile\\n#for non depressed\\nfiles = os.listdir('D:/mit wpu/DL Project/cnn/non depressed/')\\nfiles_ = []\\nfor _ in range(500):\\n    files_.append(files[np.random.randint(0, len(files))])\\nif not os.path.isdir('D:/mit wpu/DL Project/cnn/train/non Depressed/'):\\n    os.mkdir('D:/mit wpu/DL Project/cnn/train/non Depressed/')\\nelse:\\n    for file in os.listdir('D:/mit wpu/DL Project/cnn/train/non Depressed'):\\n        os.remove('D:/mit wpu/DL Project/cnn/train/non Depressed/' + file)\\nfor i in range(500):\\n    f_new = (f'00{i}' if i < 10 else f'0{i}' if i < 100 else str(i)) + f\\n    copyfile('D:/mit wpu/DL Project/cnn/non depressed/' + f, 'D:/mit wpu/DL Project/cnn/train/non Depressed/' + f_new)\\n\""
      ]
     },
     "execution_count": 3,
     "metadata": {},
     "output_type": "execute_result"
    }
   ],
   "source": [
    "'''from shutil import copyfile\n",
    "#for non depressed\n",
    "files = os.listdir('D:/mit wpu/DL Project/cnn/non depressed/')\n",
    "files_ = []\n",
    "for _ in range(500):\n",
    "    files_.append(files[np.random.randint(0, len(files))])\n",
    "if not os.path.isdir('D:/mit wpu/DL Project/cnn/train/non Depressed/'):\n",
    "    os.mkdir('D:/mit wpu/DL Project/cnn/train/non Depressed/')\n",
    "else:\n",
    "    for file in os.listdir('D:/mit wpu/DL Project/cnn/train/non Depressed'):\n",
    "        os.remove('D:/mit wpu/DL Project/cnn/train/non Depressed/' + file)\n",
    "for i in range(500):\n",
    "    f_new = (f'00{i}' if i < 10 else f'0{i}' if i < 100 else str(i)) + files_[i]\n",
    "    copyfile('D:/mit wpu/DL Project/cnn/non depressed/' + files_[i], 'D:/mit wpu/DL Project/cnn/train/non Depressed/' + f_new)\n",
    "'''"
   ]
  },
  {
   "cell_type": "code",
   "execution_count": 18,
   "metadata": {},
   "outputs": [
    {
     "data": {
      "text/plain": [
       "500"
      ]
     },
     "execution_count": 18,
     "metadata": {},
     "output_type": "execute_result"
    }
   ],
   "source": [
    "len(os.listdir('D:/mit wpu/DL Project/cnn/train/non Depressed/'))"
   ]
  },
  {
   "cell_type": "code",
   "execution_count": null,
   "metadata": {},
   "outputs": [],
   "source": [
    "#''from shutil import copyfile\n",
    "#for non depressed\n",
    "#files = os.listdir('D:/mit wpu/DL Project/cnn/depressed spectrogram/')\n",
    "#files_ = []\n",
    "#for _ in range(500):\n",
    "#    files_.append(files[np.random.randint(0, len(files))])\n",
    "#if not os.path.isdir('D:/mit wpu/DL Project/cnn/train/depressed/'):\n",
    "#    os.mkdir('D:/mit wpu/DL Project/cnn/train/non Depressed/')\n",
    "#else:\n",
    "#    for file in os.listdir('D:/mit wpu/DL Project/cnn/train/non Depressed'):\n",
    "#        os.remove('D:/mit wpu/DL Project/cnn/train/depressed/' + file)\n",
    "#for i in range(500):\n",
    "#    f_new = (f'00{i}' if i < 10 else f'0{i}' if i < 100 else str(i)) + f\n",
    "#    copyfile('D:/mit wpu/DL Project/cnn/non depressed/' + f, 'D:/mit wpu/DL Project/cnn/train/depressed/' + f_new)\n",
    "#'''"
   ]
  }
 ],
 "metadata": {
  "kernelspec": {
   "display_name": "Python 3",
   "language": "python",
   "name": "python3"
  },
  "language_info": {
   "codemirror_mode": {
    "name": "ipython",
    "version": 3
   },
   "file_extension": ".py",
   "mimetype": "text/x-python",
   "name": "python",
   "nbconvert_exporter": "python",
   "pygments_lexer": "ipython3",
   "version": "3.8.3"
  }
 },
 "nbformat": 4,
 "nbformat_minor": 2
}
