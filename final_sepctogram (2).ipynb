{
 "cells": [
  {
   "cell_type": "code",
   "execution_count": null,
   "metadata": {
    "colab": {
     "base_uri": "https://localhost:8080/",
     "height": 34
    },
    "colab_type": "code",
    "id": "3ivTCpnyVDZm",
    "outputId": "ab96502e-1b0d-4321-e238-5589f353cade"
   },
   "outputs": [
    {
     "name": "stdout",
     "output_type": "stream",
     "text": [
      "Mounted at /content/drive\n"
     ]
    }
   ],
   "source": [
    "from google.colab import drive\n",
    "drive.mount('/content/drive')"
   ]
  },
  {
   "cell_type": "code",
   "execution_count": null,
   "metadata": {
    "colab": {
     "base_uri": "https://localhost:8080/",
     "height": 101
    },
    "colab_type": "code",
    "id": "_GqGjyIVVEgI",
    "outputId": "c92080c3-dac4-422c-bca9-6ac868d71198"
   },
   "outputs": [
    {
     "name": "stdout",
     "output_type": "stream",
     "text": [
      "Collecting spectrust\n",
      "\u001b[?25l  Downloading https://files.pythonhosted.org/packages/a8/f8/210948152dcd11a6cf9c1177e85170fd7814e86bcf42a0d8aaddc93ff14e/spectrust-0.1.1-py3-none-any.whl (2.3MB)\n",
      "\u001b[K     |████████████████████████████████| 2.3MB 3.4MB/s \n",
      "\u001b[?25hInstalling collected packages: spectrust\n",
      "Successfully installed spectrust-0.1.1\n"
     ]
    }
   ],
   "source": [
    "pip install spectrust"
   ]
  },
  {
   "cell_type": "code",
   "execution_count": null,
   "metadata": {
    "colab": {},
    "colab_type": "code",
    "id": "4_b0ZQTrVOUZ"
   },
   "outputs": [],
   "source": [
    "from numpy.lib import stride_tricks\n",
    "import os\n",
    "from PIL import Image\n",
    "import scipy.io.wavfile as wav\n",
    "import numpy as np"
   ]
  },
  {
   "cell_type": "code",
   "execution_count": null,
   "metadata": {
    "colab": {
     "base_uri": "https://localhost:8080/",
     "height": 1000
    },
    "colab_type": "code",
    "id": "gj3-FqwHVQw_",
    "outputId": "722383f0-0349-4c38-fdd3-c4ff1cc3b640"
   },
   "outputs": [
    {
     "name": "stdout",
     "output_type": "stream",
     "text": [
      "P333_no_silence.wav\n",
      "P334_no_silence.wav\n",
      "P335_no_silence.wav\n",
      "P337_no_silence.wav\n",
      "P338_no_silence.wav\n",
      "P339_no_silence.wav\n",
      "P340_no_silence.wav\n",
      "P341_no_silence.wav\n",
      "P344_no_silence.wav\n",
      "P345_no_silence.wav\n",
      "P346_no_silence.wav\n",
      "P347_no_silence.wav\n",
      "P348_no_silence.wav\n",
      "P349_no_silence.wav\n",
      "P350_no_silence.wav\n",
      "P351_no_silence.wav\n",
      "P352_no_silence.wav\n",
      "P353_no_silence.wav\n",
      "P355_no_silence.wav\n",
      "P356_no_silence.wav\n",
      "P357_no_silence.wav\n",
      "P358_no_silence.wav\n",
      "P359_no_silence.wav\n",
      "P360_no_silence.wav\n",
      "P361_no_silence.wav\n",
      "P363_no_silence.wav\n",
      "P364_no_silence.wav\n",
      "P365_no_silence.wav\n",
      "P366_no_silence.wav\n",
      "P367_no_silence.wav\n",
      "P368_no_silence.wav\n",
      "P369_no_silence.wav\n",
      "P370_no_silence.wav\n",
      "P371_no_silence.wav\n",
      "P372_no_silence.wav\n",
      "P373_no_silence.wav\n",
      "P374_no_silence.wav\n",
      "P376_no_silence.wav\n",
      "P377_no_silence.wav\n",
      "P379_no_silence.wav\n",
      "P380_no_silence.wav\n",
      "P383_no_silence.wav\n",
      "P384_no_silence.wav\n",
      "P386_no_silence.wav\n",
      "P389_no_silence.wav\n",
      "P391_no_silence.wav\n",
      "P396_no_silence.wav\n",
      "P397_no_silence.wav\n",
      "P399_no_silence.wav\n",
      "P400_no_silence.wav\n",
      "P401_no_silence.wav\n",
      "P402_no_silence.wav\n",
      "P403_no_silence.wav\n",
      "P404_no_silence.wav\n",
      "P405_no_silence.wav\n",
      "P406_no_silence.wav\n",
      "P407_no_silence.wav\n",
      "P409_no_silence.wav\n",
      "P410_no_silence.wav\n",
      "P411_no_silence.wav\n",
      "P412_no_silence.wav\n",
      "P432_no_silence.wav\n",
      "P436_no_silence.wav\n",
      "P439_no_silence.wav\n",
      "P440_no_silence.wav\n",
      "P441_no_silence.wav\n",
      "P442_no_silence.wav\n",
      "P443_no_silence.wav\n",
      "P444_no_silence.wav\n",
      "P445_no_silence.wav\n",
      "P446_no_silence.wav\n",
      "P447_no_silence.wav\n",
      "P448_no_silence.wav\n",
      "P449_no_silence.wav\n",
      "P450_no_silence.wav\n",
      "P451_no_silence.wav\n",
      "P452_no_silence.wav\n",
      "P453_no_silence.wav\n",
      "P454_no_silence.wav\n",
      "P455_no_silence.wav\n",
      "P456_no_silence.wav\n",
      "P457_no_silence.wav\n",
      "P458_no_silence.wav\n",
      "P459_no_silence.wav\n",
      "P461_no_silence.wav\n",
      "P462_no_silence.wav\n",
      "P463_no_silence.wav\n",
      "P464_no_silence.wav\n",
      "P465_no_silence.wav\n",
      "P466_no_silence.wav\n",
      "P467_no_silence.wav\n",
      "P468_no_silence.wav\n",
      "P469_no_silence.wav\n",
      "P470_no_silence.wav\n",
      "P471_no_silence.wav\n",
      "P472_no_silence.wav\n",
      "P474_no_silence.wav\n",
      "P475_no_silence.wav\n",
      "P477_no_silence.wav\n",
      "P478_no_silence.wav\n",
      "P480_no_silence.wav\n",
      "P481_no_silence.wav\n",
      "P482_no_silence.wav\n",
      "P483_no_silence.wav\n",
      "P484_no_silence.wav\n",
      "P485_no_silence.wav\n",
      "P486_no_silence.wav\n",
      "P487_no_silence.wav\n",
      "P488_no_silence.wav\n",
      "P489_no_silence.wav\n",
      "P491_no_silence.wav\n",
      "P301_no_silence.wav\n",
      "P302_no_silence.wav\n",
      "P304_no_silence.wav\n",
      "P303_no_silence.wav\n",
      "P307_no_silence.wav\n",
      "P309_no_silence.wav\n",
      "P310_no_silence.wav\n",
      "P311_no_silence.wav\n",
      "P312_no_silence.wav\n",
      "P313_no_silence.wav\n",
      "P314_no_silence.wav\n",
      "P317_no_silence.wav\n",
      "P318_no_silence.wav\n",
      "P319_no_silence.wav\n",
      "P320_no_silence.wav\n",
      "P321_no_silence.wav\n",
      "P322_no_silence.wav\n",
      "P323_no_silence.wav\n",
      "P324_no_silence.wav\n",
      "P325_no_silence.wav\n",
      "P326_no_silence.wav\n",
      "P327_no_silence.wav\n",
      "P328_no_silence.wav\n",
      "P329_no_silence.wav\n",
      "P330_no_silence.wav\n",
      "P331_no_silence.wav\n",
      "P332_no_silence.wav\n",
      "P336_no_silence.wav\n",
      "P343_no_silence.wav\n",
      "P354_no_silence.wav\n",
      "P362_no_silence.wav\n",
      "P375_no_silence.wav\n",
      "P378_no_silence.wav\n",
      "P381_no_silence.wav\n",
      "P382_no_silence.wav\n",
      "P385_no_silence.wav\n",
      "P387_no_silence.wav\n",
      "P388_no_silence.wav\n",
      "P390_no_silence.wav\n",
      "P392_no_silence.wav\n",
      "P393_no_silence.wav\n",
      "P395_no_silence.wav\n",
      "P408_no_silence.wav\n",
      "P413_no_silence.wav\n",
      "P414_no_silence.wav\n",
      "P416_no_silence.wav\n",
      "P417_no_silence.wav\n",
      "P418_no_silence.wav\n",
      "P419_no_silence.wav\n",
      "P420_no_silence.wav\n",
      "P421_no_silence.wav\n",
      "P422_no_silence.wav\n",
      "P424_no_silence.wav\n",
      "P425_no_silence.wav\n",
      "P426_no_silence.wav\n",
      "P427_no_silence.wav\n",
      "P428_no_silence.wav\n",
      "P429_no_silence.wav\n",
      "P431_no_silence.wav\n",
      "P433_no_silence.wav\n",
      "P434_no_silence.wav\n",
      "P435_no_silence.wav\n",
      "P437_no_silence.wav\n",
      "P438_no_silence.wav\n",
      "P473_no_silence.wav\n",
      "P476_no_silence.wav\n",
      "P479_no_silence.wav\n",
      "P490_no_silence.wav\n",
      "P430_no_silence.wav\n",
      "P305_no_silence.wav\n",
      "P306_no_silence.wav\n",
      "P308_no_silence.wav\n",
      "P315_no_silence.wav\n",
      "P316_no_silence.wav\n"
     ]
    }
   ],
   "source": [
    "#This is the code for spectrogram \n",
    "#audio to spectrogram\n",
    "import spectrust\n",
    "import re\n",
    "#512 x 512 for spectrograph \n",
    "spect = spectrust.Spectrogram(width=512, height=512)\n",
    "for i in os.listdir(\"/content/drive/My Drive/ML Project/SPLIT AUDIO/allfiles\"):\n",
    "  print(i)\n",
    "  spect.generate('/content/drive/My Drive/ML Project/SPLIT AUDIO/allfiles/'+i, f'/content/drive/My Drive/ML Project/spectogram/{i.replace(\".wav\", \".jpeg\")}')\n"
   ]
  },
  {
   "cell_type": "code",
   "execution_count": null,
   "metadata": {
    "colab": {},
    "colab_type": "code",
    "id": "3HaMsQnVVfJ-"
   },
   "outputs": [],
   "source": []
  }
 ],
 "metadata": {
  "colab": {
   "collapsed_sections": [],
   "name": "final sepctogram",
   "provenance": []
  },
  "kernelspec": {
   "display_name": "Python 3",
   "language": "python",
   "name": "python3"
  },
  "language_info": {
   "codemirror_mode": {
    "name": "ipython",
    "version": 3
   },
   "file_extension": ".py",
   "mimetype": "text/x-python",
   "name": "python",
   "nbconvert_exporter": "python",
   "pygments_lexer": "ipython3",
   "version": "3.8.3"
  }
 },
 "nbformat": 4,
 "nbformat_minor": 1
}
